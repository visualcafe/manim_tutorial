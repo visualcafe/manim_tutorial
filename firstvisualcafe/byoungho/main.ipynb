{
 "cells": [
  {
   "cell_type": "code",
   "execution_count": 1,
   "id": "2e1ba9fa",
   "metadata": {},
   "outputs": [
    {
     "data": {
      "text/html": [
       "<pre style=\"white-space:pre;overflow-x:auto;line-height:normal;font-family:Menlo,'DejaVu Sans Mono',consolas,'Courier New',monospace\">Manim Community <span style=\"color: #008000; text-decoration-color: #008000\">v0.10.0</span>\n",
       "\n",
       "</pre>\n"
      ],
      "text/plain": [
       "Manim Community \u001b[32mv0.\u001b[0m\u001b[32m10.0\u001b[0m\n",
       "\n"
      ]
     },
     "metadata": {},
     "output_type": "display_data"
    }
   ],
   "source": [
    "from manim import *\n",
    "import numpy as np"
   ]
  },
  {
   "cell_type": "code",
   "execution_count": 4,
   "id": "f7379a5a",
   "metadata": {},
   "outputs": [
    {
     "name": "stderr",
     "output_type": "stream",
     "text": [
      "                                                                                                 \r"
     ]
    },
    {
     "data": {
      "text/html": [
       "<video src=\"media\\jupyter\\Draw@2021-10-02@13-45-48.mp4\" controls autoplay loop style=\"max-width: 75%;\"  >\n",
       "      Your browser does not support the <code>video</code> element.\n",
       "    </video>"
      ],
      "text/plain": [
       "<IPython.core.display.Video object>"
      ]
     },
     "metadata": {},
     "output_type": "display_data"
    }
   ],
   "source": [
    "%%manim -v WARNING --disable_caching -qh Draw\n",
    "\n",
    "config.media_width = \"75%\"\n",
    "\n",
    "def Ellipsoid(u, v, a=1, b=1, c=1):\n",
    "    # x**2/a**2 + y**2/b**2 + z**2/c**2 = 1\n",
    "    # u_range = [0, 2*PI], v_range=[0, PI]\n",
    "    return np.array([a * np.cos(u) * np.sin(v),\n",
    "                         b * np.sin(u) * np.sin(v),\n",
    "                         c * np.cos(v)])\n",
    "\n",
    "class Draw(ThreeDScene):\n",
    "    def construct(self):\n",
    "        axes = ThreeDAxes()\n",
    "        surface = Surface(\n",
    "            lambda u, v: axes.c2p(*Ellipsoid(u, v)),\n",
    "            u_range=[0, 2*PI],\n",
    "            v_range=[0, PI]\n",
    "            )\n",
    "        self.set_camera_orientation(theta=50 * DEGREES, phi=75 * DEGREES)\n",
    "        self.add(axes)\n",
    "        self.play(Create(surface))\n",
    "        self.wait(10)"
   ]
  },
  {
   "cell_type": "code",
   "execution_count": null,
   "id": "cf661ebe",
   "metadata": {},
   "outputs": [],
   "source": []
  }
 ],
 "metadata": {
  "kernelspec": {
   "display_name": "Python 3",
   "language": "python",
   "name": "python3"
  },
  "language_info": {
   "codemirror_mode": {
    "name": "ipython",
    "version": 3
   },
   "file_extension": ".py",
   "mimetype": "text/x-python",
   "name": "python",
   "nbconvert_exporter": "python",
   "pygments_lexer": "ipython3",
   "version": "3.8.8"
  }
 },
 "nbformat": 4,
 "nbformat_minor": 5
}
