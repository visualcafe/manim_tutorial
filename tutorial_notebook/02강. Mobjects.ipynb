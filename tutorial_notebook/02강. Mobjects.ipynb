{
 "cells": [
  {
   "cell_type": "markdown",
   "id": "7930e676",
   "metadata": {},
   "source": [
    "## 02. Mobjects\n",
    "\n",
    "Mobject는 Manim을 이용하여 영상을 만들 때, 영상에 표시될 수 있는 객체들입니다.\n",
    "\n",
    "\n",
    "간단한 형태들로는 원(Circle), 화살표(Arrow), 직사각형(Rectangle) 등이 있고, 조금 더 복잡현 형태들에는 축(Axes), 함수그래프(FunctionGraph), 막대그래프(BarChart) 등이 있죠."
   ]
  },
  {
   "cell_type": "markdown",
   "id": "93745228",
   "metadata": {},
   "source": [
    "\n",
    "## 01. Manim의  기본 3요소\n",
    "\n",
    "Manim은 세 가지 기본 요소로 구성되어 있습니다.  \n",
    "\n",
    "> **Mobject**(Mathematical Object), **Animation**, **Scene**\n"
   ]
  },
  {
   "cell_type": "code",
   "execution_count": null,
   "id": "e9fad74b",
   "metadata": {},
   "outputs": [],
   "source": []
  }
 ],
 "metadata": {
  "kernelspec": {
   "display_name": "Python 3",
   "language": "python",
   "name": "python3"
  },
  "language_info": {
   "codemirror_mode": {
    "name": "ipython",
    "version": 3
   },
   "file_extension": ".py",
   "mimetype": "text/x-python",
   "name": "python",
   "nbconvert_exporter": "python",
   "pygments_lexer": "ipython3",
   "version": "3.8.8"
  }
 },
 "nbformat": 4,
 "nbformat_minor": 5
}
