{
 "cells": [
  {
   "cell_type": "code",
   "execution_count": 1,
   "id": "e9fad74b",
   "metadata": {},
   "outputs": [
    {
     "data": {
      "text/html": [
       "<pre style=\"white-space:pre;overflow-x:auto;line-height:normal;font-family:Menlo,'DejaVu Sans Mono',consolas,'Courier New',monospace\">Manim Community <span style=\"color: #008000; text-decoration-color: #008000\">v0.10.0</span>\n",
       "\n",
       "</pre>\n"
      ],
      "text/plain": [
       "Manim Community \u001b[32mv0.\u001b[0m\u001b[32m10.0\u001b[0m\n",
       "\n"
      ]
     },
     "metadata": {},
     "output_type": "display_data"
    }
   ],
   "source": [
    "from manim import *"
   ]
  },
  {
   "cell_type": "markdown",
   "id": "93745228",
   "metadata": {},
   "source": [
    "# 01. Manim의  기본 3요소\n",
    "\n",
    "Manim은 세 가지 기본 요소로 구성되어 있습니다.  \n",
    "\n",
    "> **Mobject**(Mathematical Object), **Animation**, **Scene**\n",
    "\n"
   ]
  },
  {
   "cell_type": "markdown",
   "id": "7930e676",
   "metadata": {},
   "source": [
    "# 02. Mobjects\n",
    "\n",
    "## 1. Mobject 란?\n",
    "Mobject는 Manim을 이용하여 영상을 만들 때, 영상에 표시될 수 있는 객체들입니다.\n",
    "\n",
    "\n",
    "간단한 형태들로는 원(Circle), 화살표(Arrow), 직사각형(Rectangle) 등이 있고, 조금 더 복잡현 형태들에는 축(Axes), 함수그래프(FunctionGraph), 막대그래프(BarChart) 등이 있죠.\n",
    "\n",
    "\n",
    "`Mobject` 클래스는 모든 다른 Mobject들의 추상적 베이스 클래스입니다.  \n",
    "즉, 미리 정해진 시간적인 형태가 없어 영상에 `Mobject` 클래스의 인스턴스를 보여줄 수 없습니다.  \n",
    "대신, 우리는 `Mobject`클래스를 상속받은 다른 클래스를 이용합니다.  \n",
    "\n",
    "\n",
    "그 중 하나가 `VMobject`(Vectorized Mobject)입니다.  \n",
    "vmobject는 벡터 그래픽을 사용하는 mobject입니다."
   ]
  },
  {
   "cell_type": "markdown",
   "id": "7a38b868",
   "metadata": {},
   "source": [
    "## 2. Mobjects 다루기\n",
    "\n",
    "### 표시하기, 제거하기\n",
    "생성한 Mobject를 화면에 나타낼 때는 `add()` 메서드를, 화면에서 제거할 때는 `remove()` 메서드를 사용합니다."
   ]
  },
  {
   "cell_type": "code",
   "execution_count": 5,
   "id": "46ea87ff",
   "metadata": {},
   "outputs": [
    {
     "data": {
      "text/html": [
       "<video src=\"media\\jupyter\\CreatingMobjects@2021-10-07@21-26-19.mp4\" controls autoplay loop style=\"max-width: 75%;\"  >\n",
       "      Your browser does not support the <code>video</code> element.\n",
       "    </video>"
      ],
      "text/plain": [
       "<IPython.core.display.Video object>"
      ]
     },
     "metadata": {},
     "output_type": "display_data"
    }
   ],
   "source": [
    "%%manim -v WARNING --disable_caching -qh CreatingMobjects\n",
    "\n",
    "config.media_width = \"75%\"\n",
    "\n",
    "class CreatingMobjects(Scene):\n",
    "    def construct(self):\n",
    "        circle = Circle()  # 원 mobject 생성\n",
    "        self.add(circle)\n",
    "        self.wait(1)\n",
    "        self.remove(circle)\n",
    "        self.wait(1)"
   ]
  },
  {
   "cell_type": "markdown",
   "id": "b51657e0",
   "metadata": {},
   "source": [
    "### 위치 변경하기\n",
    "\n",
    "Mobjects의 기본 위치는 좌표계의 중심, 원점입니다. 이 위치를 바꾸고 싶으면 `shift()` 메서드를 사용할 수 있습니다. `UP`, `DOWN`, `LEFT`, `RIGHT`를 사용해 단위 만큼 위치를 변경할 수 있습니다."
   ]
  },
  {
   "cell_type": "code",
   "execution_count": 6,
   "id": "8d191a70",
   "metadata": {
    "scrolled": true
   },
   "outputs": [
    {
     "data": {
      "text/html": [
       "<video src=\"media\\jupyter\\MoveMobjects@2021-10-07@21-30-18.mp4\" controls autoplay loop style=\"max-width: 75%;\"  >\n",
       "      Your browser does not support the <code>video</code> element.\n",
       "    </video>"
      ],
      "text/plain": [
       "<IPython.core.display.Video object>"
      ]
     },
     "metadata": {},
     "output_type": "display_data"
    }
   ],
   "source": [
    "%%manim -v WARNING --disable_caching -qh MoveMobjects\n",
    "\n",
    "config.media_width = \"75%\"\n",
    "\n",
    "class MoveMobjects(Scene):\n",
    "    def construct(self):\n",
    "        circle = Circle()\n",
    "        square = Square()\n",
    "        triangle = Triangle()\n",
    "        \n",
    "        square.shift(UP)\n",
    "        triangle.shift(RIGHT*2)\n",
    "        \n",
    "        self.add(circle, square, triangle)\n",
    "        self.wait(1)"
   ]
  },
  {
   "cell_type": "markdown",
   "id": "21593f79",
   "metadata": {},
   "source": [
    "# 03. Animations\n",
    "\n",
    "`play()` 메서드를 이용해 영상에 Animation을 추가할 수 있습니다."
   ]
  },
  {
   "cell_type": "markdown",
   "id": "8ce00b20",
   "metadata": {},
   "source": [
    "# 04. Scenes\n",
    "\n",
    "`Scene` 클래스는 지금까지 만든 Mobject와 Animation을 통합해주는 역할을 합니다."
   ]
  },
  {
   "cell_type": "code",
   "execution_count": null,
   "id": "aaf0a501",
   "metadata": {},
   "outputs": [],
   "source": []
  }
 ],
 "metadata": {
  "kernelspec": {
   "display_name": "Python 3",
   "language": "python",
   "name": "python3"
  },
  "language_info": {
   "codemirror_mode": {
    "name": "ipython",
    "version": 3
   },
   "file_extension": ".py",
   "mimetype": "text/x-python",
   "name": "python",
   "nbconvert_exporter": "python",
   "pygments_lexer": "ipython3",
   "version": "3.8.8"
  }
 },
 "nbformat": 4,
 "nbformat_minor": 5
}
