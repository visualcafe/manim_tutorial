{
 "cells": [
  {
   "cell_type": "code",
   "execution_count": 7,
   "id": "049c7578",
   "metadata": {},
   "outputs": [],
   "source": [
    "from manim import *"
   ]
  },
  {
   "cell_type": "code",
   "execution_count": 8,
   "id": "2cbc7bb6",
   "metadata": {},
   "outputs": [
    {
     "name": "stderr",
     "output_type": "stream",
     "text": [
      "                                                                                                                       \r"
     ]
    },
    {
     "data": {
      "text/html": [
       "<video src=\"media\\jupyter\\Tute1@2021-10-02@11-58-40.mp4\" controls autoplay loop style=\"max-width: 75%;\"  >\n",
       "      Your browser does not support the <code>video</code> element.\n",
       "    </video>"
      ],
      "text/plain": [
       "<IPython.core.display.Video object>"
      ]
     },
     "metadata": {},
     "output_type": "display_data"
    }
   ],
   "source": [
    "%%manim -v WARNING --disable_caching -qh Tute1\n",
    "\n",
    "config.media_width = \"75%\"\n",
    "\n",
    "class Tute1(ThreeDScene):\n",
    "    def construct(self):\n",
    "        \n",
    "        axes = ThreeDAxes(\n",
    "            x_range=[-6, 6, 1],\n",
    "            y_range=[-6, 6, 1],\n",
    "            z_range=[-6, 6, 1],\n",
    "            x_length=8,\n",
    "            y_length=6,\n",
    "            z_length=6\n",
    "        )\n",
    "        \n",
    "        graph = axes.get_graph(lambda x: x**2, x_range=[-2, 2, 1], color=YELLOW)\n",
    "        \n",
    "        self.add(axes, graph)\n",
    "        self.wait()\n",
    "        \n",
    "        self.move_camera(phi=60 * DEGREES)\n",
    "        self.wait()\n",
    "        self.move_camera(theta=-45 * DEGREES)"
   ]
  },
  {
   "cell_type": "code",
   "execution_count": 20,
   "id": "c0551a89",
   "metadata": {},
   "outputs": [
    {
     "name": "stderr",
     "output_type": "stream",
     "text": [
      "                                                                                                                       \r"
     ]
    },
    {
     "data": {
      "text/html": [
       "<video src=\"media\\jupyter\\Tute2@2021-10-02@12-19-41.mp4\" controls autoplay loop style=\"max-width: 75%;\"  >\n",
       "      Your browser does not support the <code>video</code> element.\n",
       "    </video>"
      ],
      "text/plain": [
       "<IPython.core.display.Video object>"
      ]
     },
     "metadata": {},
     "output_type": "display_data"
    }
   ],
   "source": [
    "%%manim -v WARNING --disable_caching -ql Tute2\n",
    "\n",
    "config.media_width = \"75%\"\n",
    "\n",
    "class Tute2(ThreeDScene):\n",
    "    def construct(self):\n",
    "        axes = ThreeDAxes()\n",
    "        \n",
    "        graph = axes.get_graph(lambda x: x**2, x_range=[-2, 2], color=YELLOW)\n",
    "        \n",
    "        surface = Surface(\n",
    "            lambda u, v: axes.c2p(v * np.cos(u), v * np.sin(u), 0.5 * v**2),\n",
    "            u_range = [0, 2*PI],\n",
    "            v_range = [0, 3],\n",
    "        )\n",
    "        \n",
    "        surface.set_fill_by_value(axes=axes, colors=[(RED, 1), (YELLOW, 3), (GREEN, 5)])\n",
    "        \n",
    "        self.set_camera_orientation(phi=60*DEGREES, theta=-45*DEGREES)\n",
    "        self.add(axes, graph)\n",
    "        self.begin_ambient_camera_rotation(rate = PI/20)\n",
    "        self.play(Create(surface))\n",
    "        self.wait(10)"
   ]
  },
  {
   "cell_type": "code",
   "execution_count": null,
   "id": "c27aba98",
   "metadata": {},
   "outputs": [],
   "source": []
  }
 ],
 "metadata": {
  "kernelspec": {
   "display_name": "Python 3",
   "language": "python",
   "name": "python3"
  },
  "language_info": {
   "codemirror_mode": {
    "name": "ipython",
    "version": 3
   },
   "file_extension": ".py",
   "mimetype": "text/x-python",
   "name": "python",
   "nbconvert_exporter": "python",
   "pygments_lexer": "ipython3",
   "version": "3.8.8"
  }
 },
 "nbformat": 4,
 "nbformat_minor": 5
}
