{
 "cells": [
  {
   "cell_type": "markdown",
   "id": "0e2c3cef",
   "metadata": {},
   "source": [
    "# 01. 파일 생성\n",
    "\n",
    "**Manim** 으로 영상을 만들기 위해 먼저 프로젝트 폴더를 하나 만들어주세요. 예를 들어, `project` 폴더를 만들어 보겠습니다.\n",
    "\n",
    "> `project/`\n",
    "\n",
    "영상을 만드는 데 필요한 모든 코드와 결과물들은 이 폴더 안에 저장됩니다.  \n",
    "\n",
    "첫 Scene을 만들기 위한 코드를 생성하기 위해 `project`폴더 안에 파이썬 파일을 하나 만들어줍니다.\n",
    "\n",
    "> `project/scene.py`\n",
    "\n",
    "지금부터 이 안에 Manim을 이용해 영상을 만드는 코드를 작성해보겠습니다!\n",
    "\n",
    "\n",
    "※ Jupyter Notebook에서 코드를 실행시키면 실행한 ipynb 파일이 있는 폴더 안에 영상의 결과물이 저장됩니다."
   ]
  },
  {
   "cell_type": "markdown",
   "id": "87ec0ac6",
   "metadata": {},
   "source": [
    "# 02. 기본 코드 작성\n",
    "\n",
    "먼저 첫 줄에는 `manim`을 `import`해주어야 합니다.\n",
    "\n",
    "> ```python\n",
    "from manim import *\n",
    "\n",
    "그 다음에는 `Scene` 클래스를 생성해주고 그 안에 `consturct()` 메서드를 정의해주어야 합니다.\n",
    "\n",
    ">```python\n",
    "class SquareToCircle(Scene):\n",
    "    def construct(self):\n",
    "        ...\n",
    "\n",
    "이제 이 `construct()` 함수 안에 manim을 이용해 영상을 만들 코드가 들어갑니다.\n",
    "\n",
    "여기에선 원과 정사각형을 생성하여, 원을 화면에 나타낸 다음 정사각형으로 변형시켜보겠습니다.\n",
    "\n",
    ">```python\n",
    "circle = Circle()                     # 원을 생성\n",
    "circle.set_fill(PINK, opacity=0.5)    # 원의 색과 투명도를 설정\n",
    "square = Square()                     # 정사각형을 생성\n",
    "square.rotate(PI/4)                   # 정사각형을 회전 시켜놓음  \n",
    "self.play(Create(square))             # 정사각형을 생성하는 애니메이션\n",
    "self.play(Transform(square, circle))  # 정사각형을 원으로 변형시키기\n",
    "self.play(FadeOut(square))            # Fade out 하는 애니메이션\n",
    "\n",
    "전체 코드를 한번 볼까요?\n",
    "\n",
    "\n",
    "```python\n",
    "from manim import *\n",
    "\n",
    "class SquareToCircle(Scene):\n",
    "    def construct(self):\n",
    "        circle = Circle()\n",
    "        circle.set_fill(PINK, opacity=0.5)\n",
    "        \n",
    "        square = Square()\n",
    "        square.rotate(PI/4)\n",
    "        \n",
    "        self.play(Create(square))\n",
    "        self.play(Transform(square, circle))\n",
    "        self.play(FadeOut(square))        \n",
    "```\n",
    "\n",
    "\n",
    "이제 command 창을 열고 다음의 명령어를 입력해주면 영상이 만들어집니다.\n",
    "\n",
    "> ```manim -pql scene.py SquareToCircle```\n",
    "\n",
    "\n"
   ]
  },
  {
   "cell_type": "markdown",
   "id": "1497df48",
   "metadata": {},
   "source": [
    "# 03. Jupyter Notebook 에서 실행시키기\n",
    "\n",
    "이 문서에서는 앞으로 Jupyter Notebook을 이용할 계획이므로, Jupyter Notebook에서는 어떻게 실행시킬 지 알려드리겠습니다.\n",
    "\n",
    "먼저 첫 쉘에서 `manim`을 `import` 해줍니다."
   ]
  },
  {
   "cell_type": "code",
   "execution_count": 2,
   "id": "b4e30272",
   "metadata": {},
   "outputs": [
    {
     "data": {
      "text/html": [
       "<pre style=\"white-space:pre;overflow-x:auto;line-height:normal;font-family:Menlo,'DejaVu Sans Mono',consolas,'Courier New',monospace\">Manim Community <span style=\"color: #008000; text-decoration-color: #008000\">v0.10.0</span>\n",
       "\n",
       "</pre>\n"
      ],
      "text/plain": [
       "Manim Community \u001b[32mv0.\u001b[0m\u001b[32m10.0\u001b[0m\n",
       "\n"
      ]
     },
     "metadata": {},
     "output_type": "display_data"
    }
   ],
   "source": [
    "from manim import *"
   ]
  },
  {
   "cell_type": "markdown",
   "id": "38ae799e",
   "metadata": {},
   "source": [
    "그리고 다음 쉘에 아래와 같은 코드를 입력하면 됩니다.\n",
    "\n",
    "> ```python\n",
    "%%manim -v WARNING --disable_caching -qh SquareToCircle  # SquareToCircle 대신 Scene 이름\n",
    "config.media_width = \"75%\"\n",
    "\n",
    "그럼 실행시켜 보겠습니다."
   ]
  },
  {
   "cell_type": "code",
   "execution_count": 6,
   "id": "15c8b8bb",
   "metadata": {},
   "outputs": [
    {
     "name": "stderr",
     "output_type": "stream",
     "text": [
      "                                                                                                                       \r"
     ]
    },
    {
     "data": {
      "text/html": [
       "<video src=\"media\\jupyter\\SquareToCircle@2021-10-06@19-16-38.mp4\" controls autoplay loop style=\"max-width: 75%;\"  >\n",
       "      Your browser does not support the <code>video</code> element.\n",
       "    </video>"
      ],
      "text/plain": [
       "<IPython.core.display.Video object>"
      ]
     },
     "metadata": {},
     "output_type": "display_data"
    }
   ],
   "source": [
    "%%manim -v WARNING --disable_caching -qh SquareToCircle\n",
    "\n",
    "config.media_width = \"75%\"\n",
    "\n",
    "class SquareToCircle(Scene):\n",
    "    def construct(self):\n",
    "        circle = Circle()\n",
    "        circle.set_fill(PINK, opacity=0.5)\n",
    "        \n",
    "        square = Square()\n",
    "        square.rotate(PI/4)\n",
    "        \n",
    "        self.play(Create(square))\n",
    "        self.play(Transform(square, circle))\n",
    "        self.play(FadeOut(square))        "
   ]
  },
  {
   "cell_type": "markdown",
   "id": "05aa6e2b",
   "metadata": {},
   "source": [
    "---\n",
    "\n",
    "여기까지 기본적인 Manim 영상 만드는 법을 알려들렸습니다!\n",
    "\n",
    "다음 강에서는 Manim의 기본적인 구성요소들에 대해 알아보겠습니다~"
   ]
  }
 ],
 "metadata": {
  "kernelspec": {
   "display_name": "Python 3",
   "language": "python",
   "name": "python3"
  },
  "language_info": {
   "codemirror_mode": {
    "name": "ipython",
    "version": 3
   },
   "file_extension": ".py",
   "mimetype": "text/x-python",
   "name": "python",
   "nbconvert_exporter": "python",
   "pygments_lexer": "ipython3",
   "version": "3.8.8"
  }
 },
 "nbformat": 4,
 "nbformat_minor": 5
}
